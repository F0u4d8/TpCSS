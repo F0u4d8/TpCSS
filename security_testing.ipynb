{
  "cells": [
    {
      "cell_type": "markdown",
      "metadata": {},
      "source": [
        "# 🔒 Cybersecurity TP - Security Testing & Attack Demonstrations\n",
        "\n",
        "## Phase 1: Vulnerability Assessment and Exploitation\n",
        "\n",
        "**⚠️ EDUCATIONAL PURPOSE ONLY**\n",
        "\n",
        "This notebook demonstrates real security vulnerabilities in the Phase 1 application. These techniques should **NEVER** be used on systems you don't own or have explicit permission to test.\n",
        "\n",
        "### Learning Objectives:\n",
        "1. Understand common web application vulnerabilities\n",
        "2. Learn how to test for security issues\n",
        "3. Practice ethical hacking techniques\n",
        "4. Prepare fixes for Phase 2\n",
        "\n",
        "### What You'll Learn:\n",
        "- ✅ How to test API endpoints programmatically\n",
        "- ✅ Common attack vectors (IDOR, Brute Force, SQL Injection attempts)\n",
        "- ✅ Authentication and authorization flaws\n",
        "- ✅ Password security issues\n",
        "- ✅ Rate limiting importance\n",
        "- ✅ Information disclosure risks\n",
        "\n",
        "---\n",
        "\n",
        "## 📋 Prerequisites\n",
        "\n",
        "Before running this notebook:\n",
        "- ✅ Backend server running on `http://localhost:3000`\n",
        "- ✅ Frontend server running on `http://localhost:5173`\n",
        "- ✅ Python 3.7+ installed\n",
        "- ✅ Understanding of HTTP requests and REST APIs\n",
        "\n",
        "---\n"
      ]
    }
  ],
  "metadata": {
    "language_info": {
      "name": "python"
    }
  },
  "nbformat": 4,
  "nbformat_minor": 2
}
